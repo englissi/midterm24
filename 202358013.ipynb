{
  "nbformat": 4,
  "nbformat_minor": 0,
  "metadata": {
    "colab": {
      "provenance": [],
      "authorship_tag": "ABX9TyN3W2ImNgkZrAg+YUV0D+tt",
      "include_colab_link": true
    },
    "kernelspec": {
      "name": "python3",
      "display_name": "Python 3"
    },
    "language_info": {
      "name": "python"
    }
  },
  "cells": [
    {
      "cell_type": "markdown",
      "metadata": {
        "id": "view-in-github",
        "colab_type": "text"
      },
      "source": [
        "<a href=\"https://colab.research.google.com/github/englissi/midterm24/blob/main/202358013.ipynb\" target=\"_parent\"><img src=\"https://colab.research.google.com/assets/colab-badge.svg\" alt=\"Open In Colab\"/></a>"
      ]
    },
    {
      "cell_type": "markdown",
      "source": [
        "# ***🌀Midterm 2024: Kyoung-hee, Seo (202358013)***"
      ],
      "metadata": {
        "id": "Vxf7XpGbRMqs"
      }
    },
    {
      "cell_type": "markdown",
      "source": [
        "## Variable Question\n",
        "\n"
      ],
      "metadata": {
        "id": "46LneKg_vpjh"
      }
    },
    {
      "cell_type": "code",
      "source": [
        "# 'Mary, 1998, Ohio; and John, 1999, Boston.'\n",
        "\n",
        "# Cell 1: Creating Variables\n",
        "\n",
        "x = input(\"Hello, my name is \")\n",
        "y = input(\"I was born in \")\n",
        "z = input(\"I'm from \")\n",
        "\n",
        "\n"
      ],
      "metadata": {
        "colab": {
          "base_uri": "https://localhost:8080/",
          "height": 0
        },
        "id": "Z9q6AXjIwM1m",
        "outputId": "48bdacc9-a55e-4b3c-89d9-c6aa25532bf2"
      },
      "execution_count": 73,
      "outputs": [
        {
          "name": "stdout",
          "output_type": "stream",
          "text": [
            "Hello, my name is Mary\n",
            "I was born in 1998\n",
            "I'm from Ohio\n"
          ]
        }
      ]
    },
    {
      "cell_type": "code",
      "source": [
        "# Cell 2: Creating Variables\n",
        "\n",
        "x = input(\"Hello, my name is \")\n",
        "y = input(\"I was born in \")\n",
        "z = input(\"I'm from \")\n",
        "\n",
        "\n"
      ],
      "metadata": {
        "colab": {
          "base_uri": "https://localhost:8080/",
          "height": 0
        },
        "id": "YStbwLQHLpyo",
        "outputId": "456c978e-9606-4978-fe74-2f94dfcf1363"
      },
      "execution_count": 70,
      "outputs": [
        {
          "name": "stdout",
          "output_type": "stream",
          "text": [
            "Hello, my name is John\n",
            "I was born in 1999\n",
            "I'm from Boston\n"
          ]
        }
      ]
    },
    {
      "cell_type": "markdown",
      "source": [
        "## Index Question"
      ],
      "metadata": {
        "id": "Z3vpUmTP1JOF"
      }
    },
    {
      "cell_type": "code",
      "source": [
        "# Dropdown\n",
        "\n",
        "cardinal_number = \"2\" #@param = [\"1\",\"2\",\"3\",\"4\"]\n",
        "\n",
        "# Add one line of code below\n",
        "cardinal_number = int(cardinal_number)-int(1)\n",
        "\n",
        "# Ordinal expression as a list\n",
        "\n",
        "words = [\"First\", \"Second\", \"Third\",\"Fourth\"]\n",
        "\n",
        "print(\"The ordinal expression:\", words[cardinal_number])"
      ],
      "metadata": {
        "colab": {
          "base_uri": "https://localhost:8080/",
          "height": 183
        },
        "id": "0mXwHNUnSfgn",
        "outputId": "e3600a5e-762b-4498-bc7a-be66d85eff97"
      },
      "execution_count": 100,
      "outputs": [
        {
          "output_type": "error",
          "ename": "TypeError",
          "evalue": "'float' object is not callable",
          "traceback": [
            "\u001b[0;31m---------------------------------------------------------------------------\u001b[0m",
            "\u001b[0;31mTypeError\u001b[0m                                 Traceback (most recent call last)",
            "\u001b[0;32m<ipython-input-100-5606cb78601e>\u001b[0m in \u001b[0;36m<cell line: 12>\u001b[0;34m()\u001b[0m\n\u001b[1;32m     10\u001b[0m \u001b[0mwords\u001b[0m \u001b[0;34m=\u001b[0m \u001b[0;34m[\u001b[0m\u001b[0;34m\"First\"\u001b[0m\u001b[0;34m,\u001b[0m \u001b[0;34m\"Second\"\u001b[0m\u001b[0;34m,\u001b[0m \u001b[0;34m\"Third\"\u001b[0m\u001b[0;34m,\u001b[0m\u001b[0;34m\"Fourth\"\u001b[0m\u001b[0;34m]\u001b[0m\u001b[0;34m\u001b[0m\u001b[0;34m\u001b[0m\u001b[0m\n\u001b[1;32m     11\u001b[0m \u001b[0;34m\u001b[0m\u001b[0m\n\u001b[0;32m---> 12\u001b[0;31m \u001b[0mprint\u001b[0m\u001b[0;34m(\u001b[0m\u001b[0;34m\"The ordinal expression:\"\u001b[0m\u001b[0;34m,\u001b[0m \u001b[0mwords\u001b[0m\u001b[0;34m[\u001b[0m\u001b[0mcardinal_number\u001b[0m\u001b[0;34m]\u001b[0m\u001b[0;34m)\u001b[0m\u001b[0;34m\u001b[0m\u001b[0;34m\u001b[0m\u001b[0m\n\u001b[0m",
            "\u001b[0;31mTypeError\u001b[0m: 'float' object is not callable"
          ]
        }
      ]
    },
    {
      "cell_type": "markdown",
      "source": [
        "## Name Question"
      ],
      "metadata": {
        "id": "Q_15hXKR2AVx"
      }
    },
    {
      "cell_type": "code",
      "source": [
        "# Name question\n",
        "\n",
        "spelling_1 = \"My name is\"     # string\n",
        "spelling_2 = \"your name\"      # string\n",
        "spelling_1 + \" \"+ spelling_2\n"
      ],
      "metadata": {
        "colab": {
          "base_uri": "https://localhost:8080/",
          "height": 35
        },
        "id": "c4zebyWj2EHB",
        "outputId": "f60b7491-7ee7-4804-8761-7fcdd8424794"
      },
      "execution_count": 34,
      "outputs": [
        {
          "output_type": "execute_result",
          "data": {
            "text/plain": [
              "'My name is your name'"
            ],
            "application/vnd.google.colaboratory.intrinsic+json": {
              "type": "string"
            }
          },
          "metadata": {},
          "execution_count": 34
        }
      ]
    },
    {
      "cell_type": "code",
      "source": [],
      "metadata": {
        "id": "-aS4nZOV_Gcy"
      },
      "execution_count": null,
      "outputs": []
    },
    {
      "cell_type": "markdown",
      "source": [
        "## Dictionary Question\n"
      ],
      "metadata": {
        "id": "dh7Gc2kp5hd1"
      }
    },
    {
      "cell_type": "code",
      "source": [
        "# grades\n",
        "\n",
        "student_grades = {\"Alice\": 90, \"Bob\": 85, \"Charlie\": 95}\n",
        "print(\"Students Grades:\", student_grades)\n"
      ],
      "metadata": {
        "id": "Iw2Mv9Q15jiv"
      },
      "execution_count": null,
      "outputs": []
    },
    {
      "cell_type": "code",
      "source": [
        "#return Bob's grade\n",
        "student_grades['Bob']"
      ],
      "metadata": {
        "colab": {
          "base_uri": "https://localhost:8080/",
          "height": 0
        },
        "id": "xyGfyTxF6hdf",
        "outputId": "eec7c464-be7e-44e0-90c9-856b40127ee8"
      },
      "execution_count": 35,
      "outputs": [
        {
          "output_type": "execute_result",
          "data": {
            "text/plain": [
              "85"
            ]
          },
          "metadata": {},
          "execution_count": 35
        }
      ]
    },
    {
      "cell_type": "markdown",
      "source": [
        "## Function Question"
      ],
      "metadata": {
        "id": "UDipPW9J6rnu"
      }
    },
    {
      "cell_type": "code",
      "source": [
        "# Define a function for multiplication\n",
        "def divide(x, y):\n",
        "    return x / y\n",
        "\n",
        "# Test the function\n",
        "result = divide(20,4)\n",
        "print(\"result\")\n"
      ],
      "metadata": {
        "colab": {
          "base_uri": "https://localhost:8080/",
          "height": 183
        },
        "id": "yg7yxt4E6zJN",
        "outputId": "dd356936-96e8-4b51-ea9e-8c8f0fcbb345"
      },
      "execution_count": 53,
      "outputs": [
        {
          "output_type": "error",
          "ename": "TypeError",
          "evalue": "'float' object is not callable",
          "traceback": [
            "\u001b[0;31m---------------------------------------------------------------------------\u001b[0m",
            "\u001b[0;31mTypeError\u001b[0m                                 Traceback (most recent call last)",
            "\u001b[0;32m<ipython-input-53-bfc2c67bcfeb>\u001b[0m in \u001b[0;36m<cell line: 7>\u001b[0;34m()\u001b[0m\n\u001b[1;32m      5\u001b[0m \u001b[0;31m# Test the function\u001b[0m\u001b[0;34m\u001b[0m\u001b[0;34m\u001b[0m\u001b[0m\n\u001b[1;32m      6\u001b[0m \u001b[0mresult\u001b[0m \u001b[0;34m=\u001b[0m \u001b[0mdivide\u001b[0m\u001b[0;34m(\u001b[0m\u001b[0;36m20\u001b[0m\u001b[0;34m,\u001b[0m\u001b[0;36m4\u001b[0m\u001b[0;34m)\u001b[0m\u001b[0;34m\u001b[0m\u001b[0;34m\u001b[0m\u001b[0m\n\u001b[0;32m----> 7\u001b[0;31m \u001b[0mprint\u001b[0m\u001b[0;34m(\u001b[0m\u001b[0;34m\"result\"\u001b[0m\u001b[0;34m)\u001b[0m\u001b[0;34m\u001b[0m\u001b[0;34m\u001b[0m\u001b[0m\n\u001b[0m",
            "\u001b[0;31mTypeError\u001b[0m: 'float' object is not callable"
          ]
        }
      ]
    },
    {
      "cell_type": "markdown",
      "source": [
        "## Gtts Question"
      ],
      "metadata": {
        "id": "6E87Sn8p9dr8"
      }
    },
    {
      "cell_type": "code",
      "source": [
        "# First, install the gTTS library if you haven't already\n",
        "!pip install gTTS\n",
        "\n",
        "# Import the gTTS library\n",
        "from gtts import gTTS\n",
        "\n",
        "# Import IPython display module\n",
        "from IPython.display import Audio, display"
      ],
      "metadata": {
        "colab": {
          "base_uri": "https://localhost:8080/",
          "height": 0
        },
        "id": "-v_zq7_k-h_r",
        "outputId": "f3a1f3d1-5bdf-4efc-ce1d-d7374a81de88"
      },
      "execution_count": 54,
      "outputs": [
        {
          "output_type": "stream",
          "name": "stdout",
          "text": [
            "Collecting gTTS\n",
            "  Downloading gTTS-2.5.1-py3-none-any.whl (29 kB)\n",
            "Requirement already satisfied: requests<3,>=2.27 in /usr/local/lib/python3.10/dist-packages (from gTTS) (2.31.0)\n",
            "Requirement already satisfied: click<8.2,>=7.1 in /usr/local/lib/python3.10/dist-packages (from gTTS) (8.1.7)\n",
            "Requirement already satisfied: charset-normalizer<4,>=2 in /usr/local/lib/python3.10/dist-packages (from requests<3,>=2.27->gTTS) (3.3.2)\n",
            "Requirement already satisfied: idna<4,>=2.5 in /usr/local/lib/python3.10/dist-packages (from requests<3,>=2.27->gTTS) (3.7)\n",
            "Requirement already satisfied: urllib3<3,>=1.21.1 in /usr/local/lib/python3.10/dist-packages (from requests<3,>=2.27->gTTS) (2.0.7)\n",
            "Requirement already satisfied: certifi>=2017.4.17 in /usr/local/lib/python3.10/dist-packages (from requests<3,>=2.27->gTTS) (2024.2.2)\n",
            "Installing collected packages: gTTS\n",
            "Successfully installed gTTS-2.5.1\n"
          ]
        }
      ]
    },
    {
      "cell_type": "code",
      "source": [
        "# Text to be converted to speech\n",
        "text = input (\"Enter the text you want to listen to: \")\n",
        "\n",
        "# Language in which you want to convert\n",
        "language = 'en'\n",
        "\n",
        "# Pass the text and language to the gTTS module\n",
        "speech = gTTS(text = text, lang = language, slow = False)\n",
        "\n",
        "# Save the converted audio file\n",
        "speech.save(\"output.mp3\")\n",
        "\n",
        "# Display the audio directly in the notebook\n",
        "display(Audio(\"output.mp3\", autoplay=True))"
      ],
      "metadata": {
        "colab": {
          "base_uri": "https://localhost:8080/",
          "height": 92
        },
        "id": "VFa6ANhx-qaL",
        "outputId": "66bf83cc-2dfc-40eb-eb32-70c89abeedd3"
      },
      "execution_count": 55,
      "outputs": [
        {
          "name": "stdout",
          "output_type": "stream",
          "text": [
            "Enter the text you want to listen to: I have succeeded in this task.\n"
          ]
        },
        {
          "output_type": "display_data",
          "data": {
            "text/plain": [
              "<IPython.lib.display.Audio object>"
            ],
            "text/html": [
              "\n",
              "                <audio  controls=\"controls\" autoplay=\"autoplay\">\n",
              "                    <source src=\"data:audio/mpeg;base64,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\" type=\"audio/mpeg\" />\n",
              "                    Your browser does not support the audio element.\n",
              "                </audio>\n",
              "              "
            ]
          },
          "metadata": {}
        }
      ]
    },
    {
      "cell_type": "markdown",
      "source": [
        "## Audio Question"
      ],
      "metadata": {
        "id": "b66OFdGABncu"
      }
    },
    {
      "cell_type": "code",
      "source": [
        "# First, install the gTTS library if you haven't already\n",
        "!pip install gTTS\n",
        "\n",
        "# Import the gTTS library\n",
        "from gtts import gTTS\n",
        "\n",
        "# Import IPython display module\n",
        "from IPython.display import Audio, display"
      ],
      "metadata": {
        "colab": {
          "base_uri": "https://localhost:8080/",
          "height": 0
        },
        "id": "aDtO4YMCHSdD",
        "outputId": "25abbaa9-bf0e-4ea0-b8b5-d47e6e05c159"
      },
      "execution_count": 75,
      "outputs": [
        {
          "output_type": "stream",
          "name": "stdout",
          "text": [
            "Requirement already satisfied: gTTS in /usr/local/lib/python3.10/dist-packages (2.5.1)\n",
            "Requirement already satisfied: requests<3,>=2.27 in /usr/local/lib/python3.10/dist-packages (from gTTS) (2.31.0)\n",
            "Requirement already satisfied: click<8.2,>=7.1 in /usr/local/lib/python3.10/dist-packages (from gTTS) (8.1.7)\n",
            "Requirement already satisfied: charset-normalizer<4,>=2 in /usr/local/lib/python3.10/dist-packages (from requests<3,>=2.27->gTTS) (3.3.2)\n",
            "Requirement already satisfied: idna<4,>=2.5 in /usr/local/lib/python3.10/dist-packages (from requests<3,>=2.27->gTTS) (3.7)\n",
            "Requirement already satisfied: urllib3<3,>=1.21.1 in /usr/local/lib/python3.10/dist-packages (from requests<3,>=2.27->gTTS) (2.0.7)\n",
            "Requirement already satisfied: certifi>=2017.4.17 in /usr/local/lib/python3.10/dist-packages (from requests<3,>=2.27->gTTS) (2024.2.2)\n"
          ]
        }
      ]
    },
    {
      "cell_type": "code",
      "source": [
        "import gradio as gr\n",
        "from gtts import gTTS\n",
        "import os\n",
        "\n",
        "def text_to_speech(text, language):\n",
        "    lang_code = 'en' if language == \"English\" else 'ko'\n",
        "    tts = gTTS(text=text, lang=lang_code, slow=False)\n",
        "    tts.save(\"output.mp3\")\n",
        "    return \"output.mp3\"\n",
        "\n",
        "interface = gr.Interface(\n",
        "    fn=text_to_speech,\n",
        "    inputs=[\n",
        "        gr.Textbox(lines=3, label=\"Enter text\"),\n",
        "        gr.Radio(choices=[\"English\", \"Korean\"], label=\"Select language\")\n",
        "    ],\n",
        "    outputs=gr.Audio(type=\"filepath\", label=\"Audio\"),\n",
        "    title=\"Text-to-Speech\",\n",
        "    description=\"Type in some text, select a language, and generate audio.\",\n",
        ")\n",
        "\n",
        "interface.launch()\n",
        "\n",
        ""
      ],
      "metadata": {
        "colab": {
          "base_uri": "https://localhost:8080/",
          "height": 536
        },
        "id": "PKPtlXgqHd-d",
        "outputId": "b4a53a04-3dcd-401f-87d8-896f6ee20c36"
      },
      "execution_count": 76,
      "outputs": [
        {
          "output_type": "stream",
          "name": "stdout",
          "text": [
            "Setting queue=True in a Colab notebook requires sharing enabled. Setting `share=True` (you can turn this off by setting `share=False` in `launch()` explicitly).\n",
            "\n",
            "Colab notebook detected. To show errors in colab notebook, set debug=True in launch()\n",
            "Running on public URL: https://2d0db24baa456ef4b0.gradio.live\n",
            "\n",
            "This share link expires in 72 hours. For free permanent hosting and GPU upgrades, run `gradio deploy` from Terminal to deploy to Spaces (https://huggingface.co/spaces)\n"
          ]
        },
        {
          "output_type": "error",
          "ename": "ReadTimeout",
          "evalue": "The read operation timed out",
          "traceback": [
            "\u001b[0;31m---------------------------------------------------------------------------\u001b[0m",
            "\u001b[0;31mReadTimeout\u001b[0m                               Traceback (most recent call last)",
            "\u001b[0;32m/usr/local/lib/python3.10/dist-packages/httpx/_transports/default.py\u001b[0m in \u001b[0;36mmap_httpcore_exceptions\u001b[0;34m()\u001b[0m\n\u001b[1;32m     68\u001b[0m     \u001b[0;32mtry\u001b[0m\u001b[0;34m:\u001b[0m\u001b[0;34m\u001b[0m\u001b[0;34m\u001b[0m\u001b[0m\n\u001b[0;32m---> 69\u001b[0;31m         \u001b[0;32myield\u001b[0m\u001b[0;34m\u001b[0m\u001b[0;34m\u001b[0m\u001b[0m\n\u001b[0m\u001b[1;32m     70\u001b[0m     \u001b[0;32mexcept\u001b[0m \u001b[0mException\u001b[0m \u001b[0;32mas\u001b[0m \u001b[0mexc\u001b[0m\u001b[0;34m:\u001b[0m\u001b[0;34m\u001b[0m\u001b[0;34m\u001b[0m\u001b[0m\n",
            "\u001b[0;32m/usr/local/lib/python3.10/dist-packages/httpx/_transports/default.py\u001b[0m in \u001b[0;36mhandle_request\u001b[0;34m(self, request)\u001b[0m\n\u001b[1;32m    232\u001b[0m         \u001b[0;32mwith\u001b[0m \u001b[0mmap_httpcore_exceptions\u001b[0m\u001b[0;34m(\u001b[0m\u001b[0;34m)\u001b[0m\u001b[0;34m:\u001b[0m\u001b[0;34m\u001b[0m\u001b[0;34m\u001b[0m\u001b[0m\n\u001b[0;32m--> 233\u001b[0;31m             \u001b[0mresp\u001b[0m \u001b[0;34m=\u001b[0m \u001b[0mself\u001b[0m\u001b[0;34m.\u001b[0m\u001b[0m_pool\u001b[0m\u001b[0;34m.\u001b[0m\u001b[0mhandle_request\u001b[0m\u001b[0;34m(\u001b[0m\u001b[0mreq\u001b[0m\u001b[0;34m)\u001b[0m\u001b[0;34m\u001b[0m\u001b[0;34m\u001b[0m\u001b[0m\n\u001b[0m\u001b[1;32m    234\u001b[0m \u001b[0;34m\u001b[0m\u001b[0m\n",
            "\u001b[0;32m/usr/local/lib/python3.10/dist-packages/httpcore/_sync/connection_pool.py\u001b[0m in \u001b[0;36mhandle_request\u001b[0;34m(self, request)\u001b[0m\n\u001b[1;32m    215\u001b[0m             \u001b[0mself\u001b[0m\u001b[0;34m.\u001b[0m\u001b[0m_close_connections\u001b[0m\u001b[0;34m(\u001b[0m\u001b[0mclosing\u001b[0m\u001b[0;34m)\u001b[0m\u001b[0;34m\u001b[0m\u001b[0;34m\u001b[0m\u001b[0m\n\u001b[0;32m--> 216\u001b[0;31m             \u001b[0;32mraise\u001b[0m \u001b[0mexc\u001b[0m \u001b[0;32mfrom\u001b[0m \u001b[0;32mNone\u001b[0m\u001b[0;34m\u001b[0m\u001b[0;34m\u001b[0m\u001b[0m\n\u001b[0m\u001b[1;32m    217\u001b[0m \u001b[0;34m\u001b[0m\u001b[0m\n",
            "\u001b[0;32m/usr/local/lib/python3.10/dist-packages/httpcore/_sync/connection_pool.py\u001b[0m in \u001b[0;36mhandle_request\u001b[0;34m(self, request)\u001b[0m\n\u001b[1;32m    195\u001b[0m                     \u001b[0;31m# Send the request on the assigned connection.\u001b[0m\u001b[0;34m\u001b[0m\u001b[0;34m\u001b[0m\u001b[0m\n\u001b[0;32m--> 196\u001b[0;31m                     response = connection.handle_request(\n\u001b[0m\u001b[1;32m    197\u001b[0m                         \u001b[0mpool_request\u001b[0m\u001b[0;34m.\u001b[0m\u001b[0mrequest\u001b[0m\u001b[0;34m\u001b[0m\u001b[0;34m\u001b[0m\u001b[0m\n",
            "\u001b[0;32m/usr/local/lib/python3.10/dist-packages/httpcore/_sync/connection.py\u001b[0m in \u001b[0;36mhandle_request\u001b[0;34m(self, request)\u001b[0m\n\u001b[1;32m    100\u001b[0m \u001b[0;34m\u001b[0m\u001b[0m\n\u001b[0;32m--> 101\u001b[0;31m         \u001b[0;32mreturn\u001b[0m \u001b[0mself\u001b[0m\u001b[0;34m.\u001b[0m\u001b[0m_connection\u001b[0m\u001b[0;34m.\u001b[0m\u001b[0mhandle_request\u001b[0m\u001b[0;34m(\u001b[0m\u001b[0mrequest\u001b[0m\u001b[0;34m)\u001b[0m\u001b[0;34m\u001b[0m\u001b[0;34m\u001b[0m\u001b[0m\n\u001b[0m\u001b[1;32m    102\u001b[0m \u001b[0;34m\u001b[0m\u001b[0m\n",
            "\u001b[0;32m/usr/local/lib/python3.10/dist-packages/httpcore/_sync/http11.py\u001b[0m in \u001b[0;36mhandle_request\u001b[0;34m(self, request)\u001b[0m\n\u001b[1;32m    142\u001b[0m                     \u001b[0mself\u001b[0m\u001b[0;34m.\u001b[0m\u001b[0m_response_closed\u001b[0m\u001b[0;34m(\u001b[0m\u001b[0;34m)\u001b[0m\u001b[0;34m\u001b[0m\u001b[0;34m\u001b[0m\u001b[0m\n\u001b[0;32m--> 143\u001b[0;31m             \u001b[0;32mraise\u001b[0m \u001b[0mexc\u001b[0m\u001b[0;34m\u001b[0m\u001b[0;34m\u001b[0m\u001b[0m\n\u001b[0m\u001b[1;32m    144\u001b[0m \u001b[0;34m\u001b[0m\u001b[0m\n",
            "\u001b[0;32m/usr/local/lib/python3.10/dist-packages/httpcore/_sync/http11.py\u001b[0m in \u001b[0;36mhandle_request\u001b[0;34m(self, request)\u001b[0m\n\u001b[1;32m    112\u001b[0m                     \u001b[0mtrailing_data\u001b[0m\u001b[0;34m,\u001b[0m\u001b[0;34m\u001b[0m\u001b[0;34m\u001b[0m\u001b[0m\n\u001b[0;32m--> 113\u001b[0;31m                 ) = self._receive_response_headers(**kwargs)\n\u001b[0m\u001b[1;32m    114\u001b[0m                 trace.return_value = (\n",
            "\u001b[0;32m/usr/local/lib/python3.10/dist-packages/httpcore/_sync/http11.py\u001b[0m in \u001b[0;36m_receive_response_headers\u001b[0;34m(self, request)\u001b[0m\n\u001b[1;32m    185\u001b[0m         \u001b[0;32mwhile\u001b[0m \u001b[0;32mTrue\u001b[0m\u001b[0;34m:\u001b[0m\u001b[0;34m\u001b[0m\u001b[0;34m\u001b[0m\u001b[0m\n\u001b[0;32m--> 186\u001b[0;31m             \u001b[0mevent\u001b[0m \u001b[0;34m=\u001b[0m \u001b[0mself\u001b[0m\u001b[0;34m.\u001b[0m\u001b[0m_receive_event\u001b[0m\u001b[0;34m(\u001b[0m\u001b[0mtimeout\u001b[0m\u001b[0;34m=\u001b[0m\u001b[0mtimeout\u001b[0m\u001b[0;34m)\u001b[0m\u001b[0;34m\u001b[0m\u001b[0;34m\u001b[0m\u001b[0m\n\u001b[0m\u001b[1;32m    187\u001b[0m             \u001b[0;32mif\u001b[0m \u001b[0misinstance\u001b[0m\u001b[0;34m(\u001b[0m\u001b[0mevent\u001b[0m\u001b[0;34m,\u001b[0m \u001b[0mh11\u001b[0m\u001b[0;34m.\u001b[0m\u001b[0mResponse\u001b[0m\u001b[0;34m)\u001b[0m\u001b[0;34m:\u001b[0m\u001b[0;34m\u001b[0m\u001b[0;34m\u001b[0m\u001b[0m\n",
            "\u001b[0;32m/usr/local/lib/python3.10/dist-packages/httpcore/_sync/http11.py\u001b[0m in \u001b[0;36m_receive_event\u001b[0;34m(self, timeout)\u001b[0m\n\u001b[1;32m    223\u001b[0m             \u001b[0;32mif\u001b[0m \u001b[0mevent\u001b[0m \u001b[0;32mis\u001b[0m \u001b[0mh11\u001b[0m\u001b[0;34m.\u001b[0m\u001b[0mNEED_DATA\u001b[0m\u001b[0;34m:\u001b[0m\u001b[0;34m\u001b[0m\u001b[0;34m\u001b[0m\u001b[0m\n\u001b[0;32m--> 224\u001b[0;31m                 data = self._network_stream.read(\n\u001b[0m\u001b[1;32m    225\u001b[0m                     \u001b[0mself\u001b[0m\u001b[0;34m.\u001b[0m\u001b[0mREAD_NUM_BYTES\u001b[0m\u001b[0;34m,\u001b[0m \u001b[0mtimeout\u001b[0m\u001b[0;34m=\u001b[0m\u001b[0mtimeout\u001b[0m\u001b[0;34m\u001b[0m\u001b[0;34m\u001b[0m\u001b[0m\n",
            "\u001b[0;32m/usr/local/lib/python3.10/dist-packages/httpcore/_backends/sync.py\u001b[0m in \u001b[0;36mread\u001b[0;34m(self, max_bytes, timeout)\u001b[0m\n\u001b[1;32m    123\u001b[0m         \u001b[0mexc_map\u001b[0m\u001b[0;34m:\u001b[0m \u001b[0mExceptionMapping\u001b[0m \u001b[0;34m=\u001b[0m \u001b[0;34m{\u001b[0m\u001b[0msocket\u001b[0m\u001b[0;34m.\u001b[0m\u001b[0mtimeout\u001b[0m\u001b[0;34m:\u001b[0m \u001b[0mReadTimeout\u001b[0m\u001b[0;34m,\u001b[0m \u001b[0mOSError\u001b[0m\u001b[0;34m:\u001b[0m \u001b[0mReadError\u001b[0m\u001b[0;34m}\u001b[0m\u001b[0;34m\u001b[0m\u001b[0;34m\u001b[0m\u001b[0m\n\u001b[0;32m--> 124\u001b[0;31m         \u001b[0;32mwith\u001b[0m \u001b[0mmap_exceptions\u001b[0m\u001b[0;34m(\u001b[0m\u001b[0mexc_map\u001b[0m\u001b[0;34m)\u001b[0m\u001b[0;34m:\u001b[0m\u001b[0;34m\u001b[0m\u001b[0;34m\u001b[0m\u001b[0m\n\u001b[0m\u001b[1;32m    125\u001b[0m             \u001b[0mself\u001b[0m\u001b[0;34m.\u001b[0m\u001b[0m_sock\u001b[0m\u001b[0;34m.\u001b[0m\u001b[0msettimeout\u001b[0m\u001b[0;34m(\u001b[0m\u001b[0mtimeout\u001b[0m\u001b[0;34m)\u001b[0m\u001b[0;34m\u001b[0m\u001b[0;34m\u001b[0m\u001b[0m\n",
            "\u001b[0;32m/usr/lib/python3.10/contextlib.py\u001b[0m in \u001b[0;36m__exit__\u001b[0;34m(self, typ, value, traceback)\u001b[0m\n\u001b[1;32m    152\u001b[0m             \u001b[0;32mtry\u001b[0m\u001b[0;34m:\u001b[0m\u001b[0;34m\u001b[0m\u001b[0;34m\u001b[0m\u001b[0m\n\u001b[0;32m--> 153\u001b[0;31m                 \u001b[0mself\u001b[0m\u001b[0;34m.\u001b[0m\u001b[0mgen\u001b[0m\u001b[0;34m.\u001b[0m\u001b[0mthrow\u001b[0m\u001b[0;34m(\u001b[0m\u001b[0mtyp\u001b[0m\u001b[0;34m,\u001b[0m \u001b[0mvalue\u001b[0m\u001b[0;34m,\u001b[0m \u001b[0mtraceback\u001b[0m\u001b[0;34m)\u001b[0m\u001b[0;34m\u001b[0m\u001b[0;34m\u001b[0m\u001b[0m\n\u001b[0m\u001b[1;32m    154\u001b[0m             \u001b[0;32mexcept\u001b[0m \u001b[0mStopIteration\u001b[0m \u001b[0;32mas\u001b[0m \u001b[0mexc\u001b[0m\u001b[0;34m:\u001b[0m\u001b[0;34m\u001b[0m\u001b[0;34m\u001b[0m\u001b[0m\n",
            "\u001b[0;32m/usr/local/lib/python3.10/dist-packages/httpcore/_exceptions.py\u001b[0m in \u001b[0;36mmap_exceptions\u001b[0;34m(map)\u001b[0m\n\u001b[1;32m     13\u001b[0m             \u001b[0;32mif\u001b[0m \u001b[0misinstance\u001b[0m\u001b[0;34m(\u001b[0m\u001b[0mexc\u001b[0m\u001b[0;34m,\u001b[0m \u001b[0mfrom_exc\u001b[0m\u001b[0;34m)\u001b[0m\u001b[0;34m:\u001b[0m\u001b[0;34m\u001b[0m\u001b[0;34m\u001b[0m\u001b[0m\n\u001b[0;32m---> 14\u001b[0;31m                 \u001b[0;32mraise\u001b[0m \u001b[0mto_exc\u001b[0m\u001b[0;34m(\u001b[0m\u001b[0mexc\u001b[0m\u001b[0;34m)\u001b[0m \u001b[0;32mfrom\u001b[0m \u001b[0mexc\u001b[0m\u001b[0;34m\u001b[0m\u001b[0;34m\u001b[0m\u001b[0m\n\u001b[0m\u001b[1;32m     15\u001b[0m         \u001b[0;32mraise\u001b[0m  \u001b[0;31m# pragma: nocover\u001b[0m\u001b[0;34m\u001b[0m\u001b[0;34m\u001b[0m\u001b[0m\n",
            "\u001b[0;31mReadTimeout\u001b[0m: The read operation timed out",
            "\nThe above exception was the direct cause of the following exception:\n",
            "\u001b[0;31mReadTimeout\u001b[0m                               Traceback (most recent call last)",
            "\u001b[0;32m<ipython-input-76-5f304c8a4397>\u001b[0m in \u001b[0;36m<cell line: 22>\u001b[0;34m()\u001b[0m\n\u001b[1;32m     20\u001b[0m )\n\u001b[1;32m     21\u001b[0m \u001b[0;34m\u001b[0m\u001b[0m\n\u001b[0;32m---> 22\u001b[0;31m \u001b[0minterface\u001b[0m\u001b[0;34m.\u001b[0m\u001b[0mlaunch\u001b[0m\u001b[0;34m(\u001b[0m\u001b[0;34m)\u001b[0m\u001b[0;34m\u001b[0m\u001b[0;34m\u001b[0m\u001b[0m\n\u001b[0m\u001b[1;32m     23\u001b[0m \u001b[0;34m\u001b[0m\u001b[0m\n\u001b[1;32m     24\u001b[0m \u001b[0;34m\u001b[0m\u001b[0m\n",
            "\u001b[0;32m/usr/local/lib/python3.10/dist-packages/gradio/blocks.py\u001b[0m in \u001b[0;36mlaunch\u001b[0;34m(self, inline, inbrowser, share, debug, max_threads, auth, auth_message, prevent_thread_lock, show_error, server_name, server_port, height, width, favicon_path, ssl_keyfile, ssl_certfile, ssl_keyfile_password, ssl_verify, quiet, show_api, allowed_paths, blocked_paths, root_path, app_kwargs, state_session_capacity, share_server_address, share_server_protocol, auth_dependency, max_file_size, _frontend)\u001b[0m\n\u001b[1;32m   2364\u001b[0m \u001b[0;34m\u001b[0m\u001b[0m\n\u001b[1;32m   2365\u001b[0m                 \u001b[0;32mif\u001b[0m \u001b[0mself\u001b[0m\u001b[0;34m.\u001b[0m\u001b[0mshare\u001b[0m \u001b[0;32mand\u001b[0m \u001b[0mself\u001b[0m\u001b[0;34m.\u001b[0m\u001b[0mshare_url\u001b[0m\u001b[0;34m:\u001b[0m\u001b[0;34m\u001b[0m\u001b[0;34m\u001b[0m\u001b[0m\n\u001b[0;32m-> 2366\u001b[0;31m                     \u001b[0;32mwhile\u001b[0m \u001b[0;32mnot\u001b[0m \u001b[0mnetworking\u001b[0m\u001b[0;34m.\u001b[0m\u001b[0murl_ok\u001b[0m\u001b[0;34m(\u001b[0m\u001b[0mself\u001b[0m\u001b[0;34m.\u001b[0m\u001b[0mshare_url\u001b[0m\u001b[0;34m)\u001b[0m\u001b[0;34m:\u001b[0m\u001b[0;34m\u001b[0m\u001b[0;34m\u001b[0m\u001b[0m\n\u001b[0m\u001b[1;32m   2367\u001b[0m                         \u001b[0mtime\u001b[0m\u001b[0;34m.\u001b[0m\u001b[0msleep\u001b[0m\u001b[0;34m(\u001b[0m\u001b[0;36m0.25\u001b[0m\u001b[0;34m)\u001b[0m\u001b[0;34m\u001b[0m\u001b[0;34m\u001b[0m\u001b[0m\n\u001b[1;32m   2368\u001b[0m                     artifact = HTML(\n",
            "\u001b[0;32m/usr/local/lib/python3.10/dist-packages/gradio/networking.py\u001b[0m in \u001b[0;36murl_ok\u001b[0;34m(url)\u001b[0m\n\u001b[1;32m     52\u001b[0m             \u001b[0;32mwith\u001b[0m \u001b[0mwarnings\u001b[0m\u001b[0;34m.\u001b[0m\u001b[0mcatch_warnings\u001b[0m\u001b[0;34m(\u001b[0m\u001b[0;34m)\u001b[0m\u001b[0;34m:\u001b[0m\u001b[0;34m\u001b[0m\u001b[0;34m\u001b[0m\u001b[0m\n\u001b[1;32m     53\u001b[0m                 \u001b[0mwarnings\u001b[0m\u001b[0;34m.\u001b[0m\u001b[0mfilterwarnings\u001b[0m\u001b[0;34m(\u001b[0m\u001b[0;34m\"ignore\"\u001b[0m\u001b[0;34m)\u001b[0m\u001b[0;34m\u001b[0m\u001b[0;34m\u001b[0m\u001b[0m\n\u001b[0;32m---> 54\u001b[0;31m                 \u001b[0mr\u001b[0m \u001b[0;34m=\u001b[0m \u001b[0mhttpx\u001b[0m\u001b[0;34m.\u001b[0m\u001b[0mhead\u001b[0m\u001b[0;34m(\u001b[0m\u001b[0murl\u001b[0m\u001b[0;34m,\u001b[0m \u001b[0mtimeout\u001b[0m\u001b[0;34m=\u001b[0m\u001b[0;36m3\u001b[0m\u001b[0;34m,\u001b[0m \u001b[0mverify\u001b[0m\u001b[0;34m=\u001b[0m\u001b[0;32mFalse\u001b[0m\u001b[0;34m)\u001b[0m\u001b[0;34m\u001b[0m\u001b[0;34m\u001b[0m\u001b[0m\n\u001b[0m\u001b[1;32m     55\u001b[0m             \u001b[0;32mif\u001b[0m \u001b[0mr\u001b[0m\u001b[0;34m.\u001b[0m\u001b[0mstatus_code\u001b[0m \u001b[0;32min\u001b[0m \u001b[0;34m(\u001b[0m\u001b[0;36m200\u001b[0m\u001b[0;34m,\u001b[0m \u001b[0;36m401\u001b[0m\u001b[0;34m,\u001b[0m \u001b[0;36m302\u001b[0m\u001b[0;34m)\u001b[0m\u001b[0;34m:\u001b[0m  \u001b[0;31m# 401 or 302 if auth is set\u001b[0m\u001b[0;34m\u001b[0m\u001b[0;34m\u001b[0m\u001b[0m\n\u001b[1;32m     56\u001b[0m                 \u001b[0;32mreturn\u001b[0m \u001b[0;32mTrue\u001b[0m\u001b[0;34m\u001b[0m\u001b[0;34m\u001b[0m\u001b[0m\n",
            "\u001b[0;32m/usr/local/lib/python3.10/dist-packages/httpx/_api.py\u001b[0m in \u001b[0;36mhead\u001b[0;34m(url, params, headers, cookies, auth, proxy, proxies, follow_redirects, cert, verify, timeout, trust_env)\u001b[0m\n\u001b[1;32m    276\u001b[0m     \u001b[0mon\u001b[0m \u001b[0mthis\u001b[0m \u001b[0mfunction\u001b[0m\u001b[0;34m,\u001b[0m \u001b[0;32mas\u001b[0m\u001b[0;31m \u001b[0m\u001b[0;31m`\u001b[0m\u001b[0mHEAD\u001b[0m\u001b[0;31m`\u001b[0m \u001b[0mrequests\u001b[0m \u001b[0mshould\u001b[0m \u001b[0;32mnot\u001b[0m \u001b[0minclude\u001b[0m \u001b[0ma\u001b[0m \u001b[0mrequest\u001b[0m \u001b[0mbody\u001b[0m\u001b[0;34m.\u001b[0m\u001b[0;34m\u001b[0m\u001b[0;34m\u001b[0m\u001b[0m\n\u001b[1;32m    277\u001b[0m     \"\"\"\n\u001b[0;32m--> 278\u001b[0;31m     return request(\n\u001b[0m\u001b[1;32m    279\u001b[0m         \u001b[0;34m\"HEAD\"\u001b[0m\u001b[0;34m,\u001b[0m\u001b[0;34m\u001b[0m\u001b[0;34m\u001b[0m\u001b[0m\n\u001b[1;32m    280\u001b[0m         \u001b[0murl\u001b[0m\u001b[0;34m,\u001b[0m\u001b[0;34m\u001b[0m\u001b[0;34m\u001b[0m\u001b[0m\n",
            "\u001b[0;32m/usr/local/lib/python3.10/dist-packages/httpx/_api.py\u001b[0m in \u001b[0;36mrequest\u001b[0;34m(method, url, params, content, data, files, json, headers, cookies, auth, proxy, proxies, timeout, follow_redirects, verify, cert, trust_env)\u001b[0m\n\u001b[1;32m    104\u001b[0m         \u001b[0mtrust_env\u001b[0m\u001b[0;34m=\u001b[0m\u001b[0mtrust_env\u001b[0m\u001b[0;34m,\u001b[0m\u001b[0;34m\u001b[0m\u001b[0;34m\u001b[0m\u001b[0m\n\u001b[1;32m    105\u001b[0m     ) as client:\n\u001b[0;32m--> 106\u001b[0;31m         return client.request(\n\u001b[0m\u001b[1;32m    107\u001b[0m             \u001b[0mmethod\u001b[0m\u001b[0;34m=\u001b[0m\u001b[0mmethod\u001b[0m\u001b[0;34m,\u001b[0m\u001b[0;34m\u001b[0m\u001b[0;34m\u001b[0m\u001b[0m\n\u001b[1;32m    108\u001b[0m             \u001b[0murl\u001b[0m\u001b[0;34m=\u001b[0m\u001b[0murl\u001b[0m\u001b[0;34m,\u001b[0m\u001b[0;34m\u001b[0m\u001b[0;34m\u001b[0m\u001b[0m\n",
            "\u001b[0;32m/usr/local/lib/python3.10/dist-packages/httpx/_client.py\u001b[0m in \u001b[0;36mrequest\u001b[0;34m(self, method, url, content, data, files, json, params, headers, cookies, auth, follow_redirects, timeout, extensions)\u001b[0m\n\u001b[1;32m    825\u001b[0m             \u001b[0mextensions\u001b[0m\u001b[0;34m=\u001b[0m\u001b[0mextensions\u001b[0m\u001b[0;34m,\u001b[0m\u001b[0;34m\u001b[0m\u001b[0;34m\u001b[0m\u001b[0m\n\u001b[1;32m    826\u001b[0m         )\n\u001b[0;32m--> 827\u001b[0;31m         \u001b[0;32mreturn\u001b[0m \u001b[0mself\u001b[0m\u001b[0;34m.\u001b[0m\u001b[0msend\u001b[0m\u001b[0;34m(\u001b[0m\u001b[0mrequest\u001b[0m\u001b[0;34m,\u001b[0m \u001b[0mauth\u001b[0m\u001b[0;34m=\u001b[0m\u001b[0mauth\u001b[0m\u001b[0;34m,\u001b[0m \u001b[0mfollow_redirects\u001b[0m\u001b[0;34m=\u001b[0m\u001b[0mfollow_redirects\u001b[0m\u001b[0;34m)\u001b[0m\u001b[0;34m\u001b[0m\u001b[0;34m\u001b[0m\u001b[0m\n\u001b[0m\u001b[1;32m    828\u001b[0m \u001b[0;34m\u001b[0m\u001b[0m\n\u001b[1;32m    829\u001b[0m     \u001b[0;34m@\u001b[0m\u001b[0mcontextmanager\u001b[0m\u001b[0;34m\u001b[0m\u001b[0;34m\u001b[0m\u001b[0m\n",
            "\u001b[0;32m/usr/local/lib/python3.10/dist-packages/httpx/_client.py\u001b[0m in \u001b[0;36msend\u001b[0;34m(self, request, stream, auth, follow_redirects)\u001b[0m\n\u001b[1;32m    912\u001b[0m         \u001b[0mauth\u001b[0m \u001b[0;34m=\u001b[0m \u001b[0mself\u001b[0m\u001b[0;34m.\u001b[0m\u001b[0m_build_request_auth\u001b[0m\u001b[0;34m(\u001b[0m\u001b[0mrequest\u001b[0m\u001b[0;34m,\u001b[0m \u001b[0mauth\u001b[0m\u001b[0;34m)\u001b[0m\u001b[0;34m\u001b[0m\u001b[0;34m\u001b[0m\u001b[0m\n\u001b[1;32m    913\u001b[0m \u001b[0;34m\u001b[0m\u001b[0m\n\u001b[0;32m--> 914\u001b[0;31m         response = self._send_handling_auth(\n\u001b[0m\u001b[1;32m    915\u001b[0m             \u001b[0mrequest\u001b[0m\u001b[0;34m,\u001b[0m\u001b[0;34m\u001b[0m\u001b[0;34m\u001b[0m\u001b[0m\n\u001b[1;32m    916\u001b[0m             \u001b[0mauth\u001b[0m\u001b[0;34m=\u001b[0m\u001b[0mauth\u001b[0m\u001b[0;34m,\u001b[0m\u001b[0;34m\u001b[0m\u001b[0;34m\u001b[0m\u001b[0m\n",
            "\u001b[0;32m/usr/local/lib/python3.10/dist-packages/httpx/_client.py\u001b[0m in \u001b[0;36m_send_handling_auth\u001b[0;34m(self, request, auth, follow_redirects, history)\u001b[0m\n\u001b[1;32m    940\u001b[0m \u001b[0;34m\u001b[0m\u001b[0m\n\u001b[1;32m    941\u001b[0m             \u001b[0;32mwhile\u001b[0m \u001b[0;32mTrue\u001b[0m\u001b[0;34m:\u001b[0m\u001b[0;34m\u001b[0m\u001b[0;34m\u001b[0m\u001b[0m\n\u001b[0;32m--> 942\u001b[0;31m                 response = self._send_handling_redirects(\n\u001b[0m\u001b[1;32m    943\u001b[0m                     \u001b[0mrequest\u001b[0m\u001b[0;34m,\u001b[0m\u001b[0;34m\u001b[0m\u001b[0;34m\u001b[0m\u001b[0m\n\u001b[1;32m    944\u001b[0m                     \u001b[0mfollow_redirects\u001b[0m\u001b[0;34m=\u001b[0m\u001b[0mfollow_redirects\u001b[0m\u001b[0;34m,\u001b[0m\u001b[0;34m\u001b[0m\u001b[0;34m\u001b[0m\u001b[0m\n",
            "\u001b[0;32m/usr/local/lib/python3.10/dist-packages/httpx/_client.py\u001b[0m in \u001b[0;36m_send_handling_redirects\u001b[0;34m(self, request, follow_redirects, history)\u001b[0m\n\u001b[1;32m    977\u001b[0m                 \u001b[0mhook\u001b[0m\u001b[0;34m(\u001b[0m\u001b[0mrequest\u001b[0m\u001b[0;34m)\u001b[0m\u001b[0;34m\u001b[0m\u001b[0;34m\u001b[0m\u001b[0m\n\u001b[1;32m    978\u001b[0m \u001b[0;34m\u001b[0m\u001b[0m\n\u001b[0;32m--> 979\u001b[0;31m             \u001b[0mresponse\u001b[0m \u001b[0;34m=\u001b[0m \u001b[0mself\u001b[0m\u001b[0;34m.\u001b[0m\u001b[0m_send_single_request\u001b[0m\u001b[0;34m(\u001b[0m\u001b[0mrequest\u001b[0m\u001b[0;34m)\u001b[0m\u001b[0;34m\u001b[0m\u001b[0;34m\u001b[0m\u001b[0m\n\u001b[0m\u001b[1;32m    980\u001b[0m             \u001b[0;32mtry\u001b[0m\u001b[0;34m:\u001b[0m\u001b[0;34m\u001b[0m\u001b[0;34m\u001b[0m\u001b[0m\n\u001b[1;32m    981\u001b[0m                 \u001b[0;32mfor\u001b[0m \u001b[0mhook\u001b[0m \u001b[0;32min\u001b[0m \u001b[0mself\u001b[0m\u001b[0;34m.\u001b[0m\u001b[0m_event_hooks\u001b[0m\u001b[0;34m[\u001b[0m\u001b[0;34m\"response\"\u001b[0m\u001b[0;34m]\u001b[0m\u001b[0;34m:\u001b[0m\u001b[0;34m\u001b[0m\u001b[0;34m\u001b[0m\u001b[0m\n",
            "\u001b[0;32m/usr/local/lib/python3.10/dist-packages/httpx/_client.py\u001b[0m in \u001b[0;36m_send_single_request\u001b[0;34m(self, request)\u001b[0m\n\u001b[1;32m   1013\u001b[0m \u001b[0;34m\u001b[0m\u001b[0m\n\u001b[1;32m   1014\u001b[0m         \u001b[0;32mwith\u001b[0m \u001b[0mrequest_context\u001b[0m\u001b[0;34m(\u001b[0m\u001b[0mrequest\u001b[0m\u001b[0;34m=\u001b[0m\u001b[0mrequest\u001b[0m\u001b[0;34m)\u001b[0m\u001b[0;34m:\u001b[0m\u001b[0;34m\u001b[0m\u001b[0;34m\u001b[0m\u001b[0m\n\u001b[0;32m-> 1015\u001b[0;31m             \u001b[0mresponse\u001b[0m \u001b[0;34m=\u001b[0m \u001b[0mtransport\u001b[0m\u001b[0;34m.\u001b[0m\u001b[0mhandle_request\u001b[0m\u001b[0;34m(\u001b[0m\u001b[0mrequest\u001b[0m\u001b[0;34m)\u001b[0m\u001b[0;34m\u001b[0m\u001b[0;34m\u001b[0m\u001b[0m\n\u001b[0m\u001b[1;32m   1016\u001b[0m \u001b[0;34m\u001b[0m\u001b[0m\n\u001b[1;32m   1017\u001b[0m         \u001b[0;32massert\u001b[0m \u001b[0misinstance\u001b[0m\u001b[0;34m(\u001b[0m\u001b[0mresponse\u001b[0m\u001b[0;34m.\u001b[0m\u001b[0mstream\u001b[0m\u001b[0;34m,\u001b[0m \u001b[0mSyncByteStream\u001b[0m\u001b[0;34m)\u001b[0m\u001b[0;34m\u001b[0m\u001b[0;34m\u001b[0m\u001b[0m\n",
            "\u001b[0;32m/usr/local/lib/python3.10/dist-packages/httpx/_transports/default.py\u001b[0m in \u001b[0;36mhandle_request\u001b[0;34m(self, request)\u001b[0m\n\u001b[1;32m    230\u001b[0m             \u001b[0mextensions\u001b[0m\u001b[0;34m=\u001b[0m\u001b[0mrequest\u001b[0m\u001b[0;34m.\u001b[0m\u001b[0mextensions\u001b[0m\u001b[0;34m,\u001b[0m\u001b[0;34m\u001b[0m\u001b[0;34m\u001b[0m\u001b[0m\n\u001b[1;32m    231\u001b[0m         )\n\u001b[0;32m--> 232\u001b[0;31m         \u001b[0;32mwith\u001b[0m \u001b[0mmap_httpcore_exceptions\u001b[0m\u001b[0;34m(\u001b[0m\u001b[0;34m)\u001b[0m\u001b[0;34m:\u001b[0m\u001b[0;34m\u001b[0m\u001b[0;34m\u001b[0m\u001b[0m\n\u001b[0m\u001b[1;32m    233\u001b[0m             \u001b[0mresp\u001b[0m \u001b[0;34m=\u001b[0m \u001b[0mself\u001b[0m\u001b[0;34m.\u001b[0m\u001b[0m_pool\u001b[0m\u001b[0;34m.\u001b[0m\u001b[0mhandle_request\u001b[0m\u001b[0;34m(\u001b[0m\u001b[0mreq\u001b[0m\u001b[0;34m)\u001b[0m\u001b[0;34m\u001b[0m\u001b[0;34m\u001b[0m\u001b[0m\n\u001b[1;32m    234\u001b[0m \u001b[0;34m\u001b[0m\u001b[0m\n",
            "\u001b[0;32m/usr/lib/python3.10/contextlib.py\u001b[0m in \u001b[0;36m__exit__\u001b[0;34m(self, typ, value, traceback)\u001b[0m\n\u001b[1;32m    151\u001b[0m                 \u001b[0mvalue\u001b[0m \u001b[0;34m=\u001b[0m \u001b[0mtyp\u001b[0m\u001b[0;34m(\u001b[0m\u001b[0;34m)\u001b[0m\u001b[0;34m\u001b[0m\u001b[0;34m\u001b[0m\u001b[0m\n\u001b[1;32m    152\u001b[0m             \u001b[0;32mtry\u001b[0m\u001b[0;34m:\u001b[0m\u001b[0;34m\u001b[0m\u001b[0;34m\u001b[0m\u001b[0m\n\u001b[0;32m--> 153\u001b[0;31m                 \u001b[0mself\u001b[0m\u001b[0;34m.\u001b[0m\u001b[0mgen\u001b[0m\u001b[0;34m.\u001b[0m\u001b[0mthrow\u001b[0m\u001b[0;34m(\u001b[0m\u001b[0mtyp\u001b[0m\u001b[0;34m,\u001b[0m \u001b[0mvalue\u001b[0m\u001b[0;34m,\u001b[0m \u001b[0mtraceback\u001b[0m\u001b[0;34m)\u001b[0m\u001b[0;34m\u001b[0m\u001b[0;34m\u001b[0m\u001b[0m\n\u001b[0m\u001b[1;32m    154\u001b[0m             \u001b[0;32mexcept\u001b[0m \u001b[0mStopIteration\u001b[0m \u001b[0;32mas\u001b[0m \u001b[0mexc\u001b[0m\u001b[0;34m:\u001b[0m\u001b[0;34m\u001b[0m\u001b[0;34m\u001b[0m\u001b[0m\n\u001b[1;32m    155\u001b[0m                 \u001b[0;31m# Suppress StopIteration *unless* it's the same exception that\u001b[0m\u001b[0;34m\u001b[0m\u001b[0;34m\u001b[0m\u001b[0m\n",
            "\u001b[0;32m/usr/local/lib/python3.10/dist-packages/httpx/_transports/default.py\u001b[0m in \u001b[0;36mmap_httpcore_exceptions\u001b[0;34m()\u001b[0m\n\u001b[1;32m     84\u001b[0m \u001b[0;34m\u001b[0m\u001b[0m\n\u001b[1;32m     85\u001b[0m         \u001b[0mmessage\u001b[0m \u001b[0;34m=\u001b[0m \u001b[0mstr\u001b[0m\u001b[0;34m(\u001b[0m\u001b[0mexc\u001b[0m\u001b[0;34m)\u001b[0m\u001b[0;34m\u001b[0m\u001b[0;34m\u001b[0m\u001b[0m\n\u001b[0;32m---> 86\u001b[0;31m         \u001b[0;32mraise\u001b[0m \u001b[0mmapped_exc\u001b[0m\u001b[0;34m(\u001b[0m\u001b[0mmessage\u001b[0m\u001b[0;34m)\u001b[0m \u001b[0;32mfrom\u001b[0m \u001b[0mexc\u001b[0m\u001b[0;34m\u001b[0m\u001b[0;34m\u001b[0m\u001b[0m\n\u001b[0m\u001b[1;32m     87\u001b[0m \u001b[0;34m\u001b[0m\u001b[0m\n\u001b[1;32m     88\u001b[0m \u001b[0;34m\u001b[0m\u001b[0m\n",
            "\u001b[0;31mReadTimeout\u001b[0m: The read operation timed out"
          ]
        }
      ]
    },
    {
      "cell_type": "code",
      "source": [],
      "metadata": {
        "id": "XHTLdbrGH_7x"
      },
      "execution_count": null,
      "outputs": []
    }
  ]
}