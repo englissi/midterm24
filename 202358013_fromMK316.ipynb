{
  "nbformat": 4,
  "nbformat_minor": 0,
  "metadata": {
    "colab": {
      "provenance": [],
      "include_colab_link": true
    },
    "kernelspec": {
      "name": "python3",
      "display_name": "Python 3"
    },
    "language_info": {
      "name": "python"
    }
  },
  "cells": [
    {
      "cell_type": "markdown",
      "metadata": {
        "id": "view-in-github",
        "colab_type": "text"
      },
      "source": [
        "<a href=\"https://colab.research.google.com/github/englissi/midterm24/blob/main/202358013_fromMK316.ipynb\" target=\"_parent\"><img src=\"https://colab.research.google.com/assets/colab-badge.svg\" alt=\"Open In Colab\"/></a>"
      ]
    },
    {
      "cell_type": "markdown",
      "source": [
        "# ***🌀Midterm 2024: Kyoung-hee, Seo (202358013)***"
      ],
      "metadata": {
        "id": "Vxf7XpGbRMqs"
      }
    },
    {
      "cell_type": "markdown",
      "source": [
        "## Variable Question\n",
        "\n"
      ],
      "metadata": {
        "id": "46LneKg_vpjh"
      }
    },
    {
      "cell_type": "code",
      "source": [
        "# 'Mary, 1998, Ohio; and John, 1999, Boston.'\n",
        "\n",
        "# Cell 1: Creating Variables\n",
        "\n",
        "x = input(\"Hello, my name is \")\n",
        "y = input(\"I was born in \")\n",
        "z = input(\"I'm from \")\n",
        "\n",
        "\n"
      ],
      "metadata": {
        "colab": {
          "base_uri": "https://localhost:8080/"
        },
        "id": "Z9q6AXjIwM1m",
        "outputId": "ef151bf1-4890-4fb1-b8e6-53b14219ffcb"
      },
      "execution_count": 1,
      "outputs": [
        {
          "name": "stdout",
          "output_type": "stream",
          "text": [
            "Hello, my name is Mary\n",
            "I was born in 1998\n",
            "I'm from Ohio\n"
          ]
        }
      ]
    },
    {
      "cell_type": "code",
      "source": [
        "# Cell 2: Creating Variables\n",
        "\n",
        "x = input(\"Hello, my name is \")\n",
        "y = input(\"I was born in \")\n",
        "z = input(\"I'm from \")\n",
        "\n",
        "\n"
      ],
      "metadata": {
        "colab": {
          "base_uri": "https://localhost:8080/"
        },
        "id": "YStbwLQHLpyo",
        "outputId": "456c978e-9606-4978-fe74-2f94dfcf1363"
      },
      "execution_count": null,
      "outputs": [
        {
          "name": "stdout",
          "output_type": "stream",
          "text": [
            "Hello, my name is John\n",
            "I was born in 1999\n",
            "I'm from Boston\n"
          ]
        }
      ]
    },
    {
      "cell_type": "markdown",
      "source": [
        "### 😍 Refer to the following code to get the expected result."
      ],
      "metadata": {
        "id": "8Eud9cfYR4vY"
      }
    },
    {
      "cell_type": "code",
      "source": [
        "# Cell 2: Creating Variables\n",
        "\n",
        "x = input(\"Hello, my name is \")\n",
        "y = input(\"I was born in \")\n",
        "z = input(\"I'm from \")\n",
        "\n",
        "print(f\"Hello, my name is {x}. I was born in {y} and I'm from {z}. Nice to meet you!\")"
      ],
      "metadata": {
        "id": "cdlrwA8GSCL-"
      },
      "execution_count": null,
      "outputs": []
    },
    {
      "cell_type": "markdown",
      "source": [
        "## Index Question (😍 This works!)\n",
        "\n",
        "=> However, there is no need to convert 1 to int(1) since 1 is integer."
      ],
      "metadata": {
        "id": "Z3vpUmTP1JOF"
      }
    },
    {
      "cell_type": "code",
      "source": [
        "# Dropdown\n",
        "\n",
        "cardinal_number = \"2\" #@param = [\"1\",\"2\",\"3\",\"4\"]\n",
        "\n",
        "# Add one line of code below\n",
        "cardinal_number = int(cardinal_number)-int(1)\n",
        "\n",
        "# Ordinal expression as a list\n",
        "\n",
        "words = [\"First\", \"Second\", \"Third\",\"Fourth\"]\n",
        "\n",
        "print(\"The ordinal expression:\", words[cardinal_number])"
      ],
      "metadata": {
        "colab": {
          "base_uri": "https://localhost:8080/"
        },
        "id": "0mXwHNUnSfgn",
        "outputId": "8af20531-f5f4-49ed-a229-de21e21cf752",
        "cellView": "form"
      },
      "execution_count": 2,
      "outputs": [
        {
          "output_type": "stream",
          "name": "stdout",
          "text": [
            "The ordinal expression: Second\n"
          ]
        }
      ]
    },
    {
      "cell_type": "markdown",
      "source": [
        "## Name Question (😍 This works well)\n",
        "\n",
        "=> however refer to the code added below yours."
      ],
      "metadata": {
        "id": "Q_15hXKR2AVx"
      }
    },
    {
      "cell_type": "code",
      "source": [
        "# Name question\n",
        "\n",
        "x=\"My name is\"\n",
        "y=input(\"your name\")\n",
        "\n",
        "name=str(y)\n",
        "\n",
        "print(x,name)\n"
      ],
      "metadata": {
        "colab": {
          "base_uri": "https://localhost:8080/"
        },
        "id": "c4zebyWj2EHB",
        "outputId": "edcf5605-27f2-4495-e706-f18b80fd673f"
      },
      "execution_count": 3,
      "outputs": [
        {
          "output_type": "stream",
          "name": "stdout",
          "text": [
            "your nameMary\n",
            "My name is Mary\n"
          ]
        }
      ]
    },
    {
      "cell_type": "code",
      "source": [
        "# 😍 Name question (revised)\n",
        "\n",
        "x=\"My name is\"\n",
        "y=input(\"your name: \")\n",
        "\n",
        "\n",
        "print(x,y+'.')"
      ],
      "metadata": {
        "id": "-aS4nZOV_Gcy",
        "outputId": "746a0723-1198-4e14-ba51-6b3dc69b9d89",
        "colab": {
          "base_uri": "https://localhost:8080/"
        }
      },
      "execution_count": 6,
      "outputs": [
        {
          "output_type": "stream",
          "name": "stdout",
          "text": [
            "your name: Tom\n",
            "My name is Tom.\n"
          ]
        }
      ]
    },
    {
      "cell_type": "markdown",
      "source": [
        "## Dictionary Question (😍 Good job!)\n"
      ],
      "metadata": {
        "id": "dh7Gc2kp5hd1"
      }
    },
    {
      "cell_type": "code",
      "source": [
        "# grades\n",
        "\n",
        "student_grades = {\"Alice\": 90, \"Bob\": 85, \"Charlie\": 95}\n",
        "print(\"Students Grades:\", student_grades)\n"
      ],
      "metadata": {
        "id": "Iw2Mv9Q15jiv",
        "outputId": "14d41069-010e-415b-b851-0d4fe6ba020a",
        "colab": {
          "base_uri": "https://localhost:8080/"
        }
      },
      "execution_count": 7,
      "outputs": [
        {
          "output_type": "stream",
          "name": "stdout",
          "text": [
            "Students Grades: {'Alice': 90, 'Bob': 85, 'Charlie': 95}\n"
          ]
        }
      ]
    },
    {
      "cell_type": "code",
      "source": [
        "#return Bob's grade\n",
        "student_grades['Bob']"
      ],
      "metadata": {
        "colab": {
          "base_uri": "https://localhost:8080/"
        },
        "id": "xyGfyTxF6hdf",
        "outputId": "3bc92c47-8429-4b47-a499-10440d38648b"
      },
      "execution_count": 8,
      "outputs": [
        {
          "output_type": "execute_result",
          "data": {
            "text/plain": [
              "85"
            ]
          },
          "metadata": {},
          "execution_count": 8
        }
      ]
    },
    {
      "cell_type": "markdown",
      "source": [
        "## Function Question (😍 Good job!)"
      ],
      "metadata": {
        "id": "UDipPW9J6rnu"
      }
    },
    {
      "cell_type": "code",
      "source": [
        "# Define a function for multiplication\n",
        "def divide(x, y):\n",
        "    return x / y\n",
        "\n",
        "# Test the function\n",
        "result = divide(20,4)\n",
        "print(\"result :\",result)\n"
      ],
      "metadata": {
        "colab": {
          "base_uri": "https://localhost:8080/"
        },
        "id": "yg7yxt4E6zJN",
        "outputId": "c2fbc28d-2662-4fd8-a45b-5018b73e9564"
      },
      "execution_count": 9,
      "outputs": [
        {
          "output_type": "stream",
          "name": "stdout",
          "text": [
            "result : 5.0\n"
          ]
        }
      ]
    },
    {
      "cell_type": "markdown",
      "source": [
        "## Gtts Question (😍 Good job!)"
      ],
      "metadata": {
        "id": "6E87Sn8p9dr8"
      }
    },
    {
      "cell_type": "code",
      "source": [
        "# First, install the gTTS library if you haven't already\n",
        "!pip install gTTS\n",
        "\n",
        "# Import the gTTS library\n",
        "from gtts import gTTS\n",
        "\n",
        "# Import IPython display module\n",
        "from IPython.display import Audio, display"
      ],
      "metadata": {
        "colab": {
          "base_uri": "https://localhost:8080/"
        },
        "id": "-v_zq7_k-h_r",
        "outputId": "c8899a9e-6541-4eed-86e8-59f077b4f7d8"
      },
      "execution_count": 10,
      "outputs": [
        {
          "output_type": "stream",
          "name": "stdout",
          "text": [
            "Collecting gTTS\n",
            "  Downloading gTTS-2.5.1-py3-none-any.whl (29 kB)\n",
            "Requirement already satisfied: requests<3,>=2.27 in /usr/local/lib/python3.10/dist-packages (from gTTS) (2.31.0)\n",
            "Requirement already satisfied: click<8.2,>=7.1 in /usr/local/lib/python3.10/dist-packages (from gTTS) (8.1.7)\n",
            "Requirement already satisfied: charset-normalizer<4,>=2 in /usr/local/lib/python3.10/dist-packages (from requests<3,>=2.27->gTTS) (3.3.2)\n",
            "Requirement already satisfied: idna<4,>=2.5 in /usr/local/lib/python3.10/dist-packages (from requests<3,>=2.27->gTTS) (3.7)\n",
            "Requirement already satisfied: urllib3<3,>=1.21.1 in /usr/local/lib/python3.10/dist-packages (from requests<3,>=2.27->gTTS) (2.0.7)\n",
            "Requirement already satisfied: certifi>=2017.4.17 in /usr/local/lib/python3.10/dist-packages (from requests<3,>=2.27->gTTS) (2024.2.2)\n",
            "Installing collected packages: gTTS\n",
            "Successfully installed gTTS-2.5.1\n"
          ]
        }
      ]
    },
    {
      "cell_type": "code",
      "source": [
        "# Text to be converted to speech\n",
        "text = input (\"Enter the text you want to listen to: \")\n",
        "\n",
        "# Language in which you want to convert\n",
        "language = 'en'\n",
        "\n",
        "# Pass the text and language to the gTTS module\n",
        "speech = gTTS(text = text, lang = language, slow = False)\n",
        "\n",
        "# Save the converted audio file\n",
        "speech.save(\"output.mp3\")\n",
        "\n",
        "# Display the audio directly in the notebook\n",
        "display(Audio(\"output.mp3\", autoplay=True))"
      ],
      "metadata": {
        "colab": {
          "base_uri": "https://localhost:8080/",
          "height": 93
        },
        "id": "VFa6ANhx-qaL",
        "outputId": "33b22ea9-5bb4-4c36-f0ec-aacaaf01a2b7"
      },
      "execution_count": 11,
      "outputs": [
        {
          "name": "stdout",
          "output_type": "stream",
          "text": [
            "Enter the text you want to listen to: We can generate any audio as you type.\n"
          ]
        },
        {
          "output_type": "display_data",
          "data": {
            "text/plain": [
              "<IPython.lib.display.Audio object>"
            ],
            "text/html": [
              "\n",
              "                <audio  controls=\"controls\" autoplay=\"autoplay\">\n",
              "                    <source src=\"data:audio/mpeg;base64,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\" type=\"audio/mpeg\" />\n",
              "                    Your browser does not support the audio element.\n",
              "                </audio>\n",
              "              "
            ]
          },
          "metadata": {}
        }
      ]
    },
    {
      "cell_type": "markdown",
      "source": [
        "## Audio Question (😍 This works well)\n",
        "\n",
        "😍 However, do you think the installation code in the same code cell efficient?"
      ],
      "metadata": {
        "id": "b66OFdGABncu"
      }
    },
    {
      "cell_type": "code",
      "source": [
        "# First, install the gTTS library if you haven't already\n",
        "!pip install gTTS\n",
        "\n",
        "# Import the gTTS library\n",
        "from gtts import gTTS\n",
        "\n",
        "# Import IPython display module\n",
        "from IPython.display import Audio, display\n",
        "\n",
        "# Text to be converted to speech\n",
        "text = \"This is a test message.\"\n",
        "\n",
        "# Language in which you want to convert\n",
        "language = 'en'\n",
        "\n",
        "# Pass the text and language to the gTTS module\n",
        "speech = gTTS(text = text, lang = language, slow = False)\n",
        "\n",
        "# Save the converted audio file\n",
        "speech.save(\"output.mp3\")\n",
        "\n",
        "# Display the audio directly in the notebook\n",
        "display(Audio(\"output.mp3\", autoplay=True))\n",
        "\n",
        "\n",
        "# Install gradio library using !pip install\n",
        "\n",
        "!pip install gradio\n",
        "\n",
        "import gradio as gr\n",
        "from gtts import gTTS\n",
        "import os\n",
        "\n",
        "def text_to_speech(text, language):\n",
        "    lang_code = 'en' if language == \"English\" else 'ko'\n",
        "    tts = gTTS(text=text, lang=lang_code, slow=False)\n",
        "    tts.save(\"output.mp3\")\n",
        "    return \"output.mp3\"\n",
        "\n",
        "interface = gr.Interface(\n",
        "    fn=text_to_speech,\n",
        "    inputs=[\n",
        "        gr.Textbox(lines=3, label=\"Enter text\"),\n",
        "        gr.Radio(choices=[\"English\", \"Korean\"], label=\"Select language\")\n",
        "    ],\n",
        "    outputs=gr.Audio(type=\"filepath\", label=\"Audio\"),\n",
        "    title=\"Text-to-Speech\",\n",
        "    description=\"Type in some text, select a language, and generate audio.\",\n",
        ")\n",
        "\n",
        "interface.launch()"
      ],
      "metadata": {
        "id": "aDtO4YMCHSdD",
        "outputId": "a1eccc64-3f04-4c93-eb7e-608e8934c8de",
        "colab": {
          "base_uri": "https://localhost:8080/",
          "height": 1000
        }
      },
      "execution_count": 12,
      "outputs": [
        {
          "output_type": "stream",
          "name": "stdout",
          "text": [
            "Requirement already satisfied: gTTS in /usr/local/lib/python3.10/dist-packages (2.5.1)\n",
            "Requirement already satisfied: requests<3,>=2.27 in /usr/local/lib/python3.10/dist-packages (from gTTS) (2.31.0)\n",
            "Requirement already satisfied: click<8.2,>=7.1 in /usr/local/lib/python3.10/dist-packages (from gTTS) (8.1.7)\n",
            "Requirement already satisfied: charset-normalizer<4,>=2 in /usr/local/lib/python3.10/dist-packages (from requests<3,>=2.27->gTTS) (3.3.2)\n",
            "Requirement already satisfied: idna<4,>=2.5 in /usr/local/lib/python3.10/dist-packages (from requests<3,>=2.27->gTTS) (3.7)\n",
            "Requirement already satisfied: urllib3<3,>=1.21.1 in /usr/local/lib/python3.10/dist-packages (from requests<3,>=2.27->gTTS) (2.0.7)\n",
            "Requirement already satisfied: certifi>=2017.4.17 in /usr/local/lib/python3.10/dist-packages (from requests<3,>=2.27->gTTS) (2024.2.2)\n"
          ]
        },
        {
          "output_type": "display_data",
          "data": {
            "text/plain": [
              "<IPython.lib.display.Audio object>"
            ],
            "text/html": [
              "\n",
              "                <audio  controls=\"controls\" autoplay=\"autoplay\">\n",
              "                    <source src=\"data:audio/mpeg;base64,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\" type=\"audio/mpeg\" />\n",
              "                    Your browser does not support the audio element.\n",
              "                </audio>\n",
              "              "
            ]
          },
          "metadata": {}
        },
        {
          "output_type": "stream",
          "name": "stdout",
          "text": [
            "Collecting gradio\n",
            "  Downloading gradio-4.28.3-py3-none-any.whl (12.2 MB)\n",
            "\u001b[2K     \u001b[90m━━━━━━━━━━━━━━━━━━━━━━━━━━━━━━━━━━━━━━━━\u001b[0m \u001b[32m12.2/12.2 MB\u001b[0m \u001b[31m24.3 MB/s\u001b[0m eta \u001b[36m0:00:00\u001b[0m\n",
            "\u001b[?25hCollecting aiofiles<24.0,>=22.0 (from gradio)\n",
            "  Downloading aiofiles-23.2.1-py3-none-any.whl (15 kB)\n",
            "Requirement already satisfied: altair<6.0,>=4.2.0 in /usr/local/lib/python3.10/dist-packages (from gradio) (4.2.2)\n",
            "Collecting fastapi (from gradio)\n",
            "  Downloading fastapi-0.110.3-py3-none-any.whl (91 kB)\n",
            "\u001b[2K     \u001b[90m━━━━━━━━━━━━━━━━━━━━━━━━━━━━━━━━━━━━━━━━\u001b[0m \u001b[32m91.8/91.8 kB\u001b[0m \u001b[31m9.8 MB/s\u001b[0m eta \u001b[36m0:00:00\u001b[0m\n",
            "\u001b[?25hCollecting ffmpy (from gradio)\n",
            "  Downloading ffmpy-0.3.2.tar.gz (5.5 kB)\n",
            "  Preparing metadata (setup.py) ... \u001b[?25l\u001b[?25hdone\n",
            "Collecting gradio-client==0.16.0 (from gradio)\n",
            "  Downloading gradio_client-0.16.0-py3-none-any.whl (314 kB)\n",
            "\u001b[2K     \u001b[90m━━━━━━━━━━━━━━━━━━━━━━━━━━━━━━━━━━━━━━━━\u001b[0m \u001b[32m314.4/314.4 kB\u001b[0m \u001b[31m26.4 MB/s\u001b[0m eta \u001b[36m0:00:00\u001b[0m\n",
            "\u001b[?25hCollecting httpx>=0.24.1 (from gradio)\n",
            "  Downloading httpx-0.27.0-py3-none-any.whl (75 kB)\n",
            "\u001b[2K     \u001b[90m━━━━━━━━━━━━━━━━━━━━━━━━━━━━━━━━━━━━━━━━\u001b[0m \u001b[32m75.6/75.6 kB\u001b[0m \u001b[31m6.8 MB/s\u001b[0m eta \u001b[36m0:00:00\u001b[0m\n",
            "\u001b[?25hRequirement already satisfied: huggingface-hub>=0.19.3 in /usr/local/lib/python3.10/dist-packages (from gradio) (0.20.3)\n",
            "Requirement already satisfied: importlib-resources<7.0,>=1.3 in /usr/local/lib/python3.10/dist-packages (from gradio) (6.4.0)\n",
            "Requirement already satisfied: jinja2<4.0 in /usr/local/lib/python3.10/dist-packages (from gradio) (3.1.3)\n",
            "Requirement already satisfied: markupsafe~=2.0 in /usr/local/lib/python3.10/dist-packages (from gradio) (2.1.5)\n",
            "Requirement already satisfied: matplotlib~=3.0 in /usr/local/lib/python3.10/dist-packages (from gradio) (3.7.1)\n",
            "Requirement already satisfied: numpy~=1.0 in /usr/local/lib/python3.10/dist-packages (from gradio) (1.25.2)\n",
            "Collecting orjson~=3.0 (from gradio)\n",
            "  Downloading orjson-3.10.1-cp310-cp310-manylinux_2_17_x86_64.manylinux2014_x86_64.whl (141 kB)\n",
            "\u001b[2K     \u001b[90m━━━━━━━━━━━━━━━━━━━━━━━━━━━━━━━━━━━━━━━━\u001b[0m \u001b[32m141.1/141.1 kB\u001b[0m \u001b[31m6.0 MB/s\u001b[0m eta \u001b[36m0:00:00\u001b[0m\n",
            "\u001b[?25hRequirement already satisfied: packaging in /usr/local/lib/python3.10/dist-packages (from gradio) (24.0)\n",
            "Requirement already satisfied: pandas<3.0,>=1.0 in /usr/local/lib/python3.10/dist-packages (from gradio) (2.0.3)\n",
            "Requirement already satisfied: pillow<11.0,>=8.0 in /usr/local/lib/python3.10/dist-packages (from gradio) (9.4.0)\n",
            "Requirement already satisfied: pydantic>=2.0 in /usr/local/lib/python3.10/dist-packages (from gradio) (2.7.1)\n",
            "Collecting pydub (from gradio)\n",
            "  Downloading pydub-0.25.1-py2.py3-none-any.whl (32 kB)\n",
            "Collecting python-multipart>=0.0.9 (from gradio)\n",
            "  Downloading python_multipart-0.0.9-py3-none-any.whl (22 kB)\n",
            "Requirement already satisfied: pyyaml<7.0,>=5.0 in /usr/local/lib/python3.10/dist-packages (from gradio) (6.0.1)\n",
            "Collecting ruff>=0.2.2 (from gradio)\n",
            "  Downloading ruff-0.4.2-py3-none-manylinux_2_17_x86_64.manylinux2014_x86_64.whl (8.8 MB)\n",
            "\u001b[2K     \u001b[90m━━━━━━━━━━━━━━━━━━━━━━━━━━━━━━━━━━━━━━━━\u001b[0m \u001b[32m8.8/8.8 MB\u001b[0m \u001b[31m43.2 MB/s\u001b[0m eta \u001b[36m0:00:00\u001b[0m\n",
            "\u001b[?25hCollecting semantic-version~=2.0 (from gradio)\n",
            "  Downloading semantic_version-2.10.0-py2.py3-none-any.whl (15 kB)\n",
            "Collecting tomlkit==0.12.0 (from gradio)\n",
            "  Downloading tomlkit-0.12.0-py3-none-any.whl (37 kB)\n",
            "Collecting typer<1.0,>=0.12 (from gradio)\n",
            "  Downloading typer-0.12.3-py3-none-any.whl (47 kB)\n",
            "\u001b[2K     \u001b[90m━━━━━━━━━━━━━━━━━━━━━━━━━━━━━━━━━━━━━━━━\u001b[0m \u001b[32m47.2/47.2 kB\u001b[0m \u001b[31m3.7 MB/s\u001b[0m eta \u001b[36m0:00:00\u001b[0m\n",
            "\u001b[?25hRequirement already satisfied: typing-extensions~=4.0 in /usr/local/lib/python3.10/dist-packages (from gradio) (4.11.0)\n",
            "Requirement already satisfied: urllib3~=2.0 in /usr/local/lib/python3.10/dist-packages (from gradio) (2.0.7)\n",
            "Collecting uvicorn>=0.14.0 (from gradio)\n",
            "  Downloading uvicorn-0.29.0-py3-none-any.whl (60 kB)\n",
            "\u001b[2K     \u001b[90m━━━━━━━━━━━━━━━━━━━━━━━━━━━━━━━━━━━━━━━━\u001b[0m \u001b[32m60.8/60.8 kB\u001b[0m \u001b[31m5.4 MB/s\u001b[0m eta \u001b[36m0:00:00\u001b[0m\n",
            "\u001b[?25hRequirement already satisfied: fsspec in /usr/local/lib/python3.10/dist-packages (from gradio-client==0.16.0->gradio) (2023.6.0)\n",
            "Collecting websockets<12.0,>=10.0 (from gradio-client==0.16.0->gradio)\n",
            "  Downloading websockets-11.0.3-cp310-cp310-manylinux_2_5_x86_64.manylinux1_x86_64.manylinux_2_17_x86_64.manylinux2014_x86_64.whl (129 kB)\n",
            "\u001b[2K     \u001b[90m━━━━━━━━━━━━━━━━━━━━━━━━━━━━━━━━━━━━━━━━\u001b[0m \u001b[32m129.9/129.9 kB\u001b[0m \u001b[31m9.4 MB/s\u001b[0m eta \u001b[36m0:00:00\u001b[0m\n",
            "\u001b[?25hRequirement already satisfied: entrypoints in /usr/local/lib/python3.10/dist-packages (from altair<6.0,>=4.2.0->gradio) (0.4)\n",
            "Requirement already satisfied: jsonschema>=3.0 in /usr/local/lib/python3.10/dist-packages (from altair<6.0,>=4.2.0->gradio) (4.19.2)\n",
            "Requirement already satisfied: toolz in /usr/local/lib/python3.10/dist-packages (from altair<6.0,>=4.2.0->gradio) (0.12.1)\n",
            "Requirement already satisfied: anyio in /usr/local/lib/python3.10/dist-packages (from httpx>=0.24.1->gradio) (3.7.1)\n",
            "Requirement already satisfied: certifi in /usr/local/lib/python3.10/dist-packages (from httpx>=0.24.1->gradio) (2024.2.2)\n",
            "Collecting httpcore==1.* (from httpx>=0.24.1->gradio)\n",
            "  Downloading httpcore-1.0.5-py3-none-any.whl (77 kB)\n",
            "\u001b[2K     \u001b[90m━━━━━━━━━━━━━━━━━━━━━━━━━━━━━━━━━━━━━━━━\u001b[0m \u001b[32m77.9/77.9 kB\u001b[0m \u001b[31m5.4 MB/s\u001b[0m eta \u001b[36m0:00:00\u001b[0m\n",
            "\u001b[?25hRequirement already satisfied: idna in /usr/local/lib/python3.10/dist-packages (from httpx>=0.24.1->gradio) (3.7)\n",
            "Requirement already satisfied: sniffio in /usr/local/lib/python3.10/dist-packages (from httpx>=0.24.1->gradio) (1.3.1)\n",
            "Collecting h11<0.15,>=0.13 (from httpcore==1.*->httpx>=0.24.1->gradio)\n",
            "  Downloading h11-0.14.0-py3-none-any.whl (58 kB)\n",
            "\u001b[2K     \u001b[90m━━━━━━━━━━━━━━━━━━━━━━━━━━━━━━━━━━━━━━━━\u001b[0m \u001b[32m58.3/58.3 kB\u001b[0m \u001b[31m4.4 MB/s\u001b[0m eta \u001b[36m0:00:00\u001b[0m\n",
            "\u001b[?25hRequirement already satisfied: filelock in /usr/local/lib/python3.10/dist-packages (from huggingface-hub>=0.19.3->gradio) (3.13.4)\n",
            "Requirement already satisfied: requests in /usr/local/lib/python3.10/dist-packages (from huggingface-hub>=0.19.3->gradio) (2.31.0)\n",
            "Requirement already satisfied: tqdm>=4.42.1 in /usr/local/lib/python3.10/dist-packages (from huggingface-hub>=0.19.3->gradio) (4.66.2)\n",
            "Requirement already satisfied: contourpy>=1.0.1 in /usr/local/lib/python3.10/dist-packages (from matplotlib~=3.0->gradio) (1.2.1)\n",
            "Requirement already satisfied: cycler>=0.10 in /usr/local/lib/python3.10/dist-packages (from matplotlib~=3.0->gradio) (0.12.1)\n",
            "Requirement already satisfied: fonttools>=4.22.0 in /usr/local/lib/python3.10/dist-packages (from matplotlib~=3.0->gradio) (4.51.0)\n",
            "Requirement already satisfied: kiwisolver>=1.0.1 in /usr/local/lib/python3.10/dist-packages (from matplotlib~=3.0->gradio) (1.4.5)\n",
            "Requirement already satisfied: pyparsing>=2.3.1 in /usr/local/lib/python3.10/dist-packages (from matplotlib~=3.0->gradio) (3.1.2)\n",
            "Requirement already satisfied: python-dateutil>=2.7 in /usr/local/lib/python3.10/dist-packages (from matplotlib~=3.0->gradio) (2.8.2)\n",
            "Requirement already satisfied: pytz>=2020.1 in /usr/local/lib/python3.10/dist-packages (from pandas<3.0,>=1.0->gradio) (2023.4)\n",
            "Requirement already satisfied: tzdata>=2022.1 in /usr/local/lib/python3.10/dist-packages (from pandas<3.0,>=1.0->gradio) (2024.1)\n",
            "Requirement already satisfied: annotated-types>=0.4.0 in /usr/local/lib/python3.10/dist-packages (from pydantic>=2.0->gradio) (0.6.0)\n",
            "Requirement already satisfied: pydantic-core==2.18.2 in /usr/local/lib/python3.10/dist-packages (from pydantic>=2.0->gradio) (2.18.2)\n",
            "Requirement already satisfied: click>=8.0.0 in /usr/local/lib/python3.10/dist-packages (from typer<1.0,>=0.12->gradio) (8.1.7)\n",
            "Collecting shellingham>=1.3.0 (from typer<1.0,>=0.12->gradio)\n",
            "  Downloading shellingham-1.5.4-py2.py3-none-any.whl (9.8 kB)\n",
            "Requirement already satisfied: rich>=10.11.0 in /usr/local/lib/python3.10/dist-packages (from typer<1.0,>=0.12->gradio) (13.7.1)\n",
            "Collecting starlette<0.38.0,>=0.37.2 (from fastapi->gradio)\n",
            "  Downloading starlette-0.37.2-py3-none-any.whl (71 kB)\n",
            "\u001b[2K     \u001b[90m━━━━━━━━━━━━━━━━━━━━━━━━━━━━━━━━━━━━━━━━\u001b[0m \u001b[32m71.9/71.9 kB\u001b[0m \u001b[31m7.0 MB/s\u001b[0m eta \u001b[36m0:00:00\u001b[0m\n",
            "\u001b[?25hRequirement already satisfied: attrs>=22.2.0 in /usr/local/lib/python3.10/dist-packages (from jsonschema>=3.0->altair<6.0,>=4.2.0->gradio) (23.2.0)\n",
            "Requirement already satisfied: jsonschema-specifications>=2023.03.6 in /usr/local/lib/python3.10/dist-packages (from jsonschema>=3.0->altair<6.0,>=4.2.0->gradio) (2023.12.1)\n",
            "Requirement already satisfied: referencing>=0.28.4 in /usr/local/lib/python3.10/dist-packages (from jsonschema>=3.0->altair<6.0,>=4.2.0->gradio) (0.35.0)\n",
            "Requirement already satisfied: rpds-py>=0.7.1 in /usr/local/lib/python3.10/dist-packages (from jsonschema>=3.0->altair<6.0,>=4.2.0->gradio) (0.18.0)\n",
            "Requirement already satisfied: six>=1.5 in /usr/local/lib/python3.10/dist-packages (from python-dateutil>=2.7->matplotlib~=3.0->gradio) (1.16.0)\n",
            "Requirement already satisfied: markdown-it-py>=2.2.0 in /usr/local/lib/python3.10/dist-packages (from rich>=10.11.0->typer<1.0,>=0.12->gradio) (3.0.0)\n",
            "Requirement already satisfied: pygments<3.0.0,>=2.13.0 in /usr/local/lib/python3.10/dist-packages (from rich>=10.11.0->typer<1.0,>=0.12->gradio) (2.16.1)\n",
            "Requirement already satisfied: exceptiongroup in /usr/local/lib/python3.10/dist-packages (from anyio->httpx>=0.24.1->gradio) (1.2.1)\n",
            "Requirement already satisfied: charset-normalizer<4,>=2 in /usr/local/lib/python3.10/dist-packages (from requests->huggingface-hub>=0.19.3->gradio) (3.3.2)\n",
            "Requirement already satisfied: mdurl~=0.1 in /usr/local/lib/python3.10/dist-packages (from markdown-it-py>=2.2.0->rich>=10.11.0->typer<1.0,>=0.12->gradio) (0.1.2)\n",
            "Building wheels for collected packages: ffmpy\n",
            "  Building wheel for ffmpy (setup.py) ... \u001b[?25l\u001b[?25hdone\n",
            "  Created wheel for ffmpy: filename=ffmpy-0.3.2-py3-none-any.whl size=5584 sha256=c0262895588c86cea6150a0efff2f612ec0a2a367b5a4c036748f1199afcc3b5\n",
            "  Stored in directory: /root/.cache/pip/wheels/bd/65/9a/671fc6dcde07d4418df0c592f8df512b26d7a0029c2a23dd81\n",
            "Successfully built ffmpy\n",
            "Installing collected packages: pydub, ffmpy, websockets, tomlkit, shellingham, semantic-version, ruff, python-multipart, orjson, h11, aiofiles, uvicorn, starlette, httpcore, typer, httpx, fastapi, gradio-client, gradio\n",
            "  Attempting uninstall: typer\n",
            "    Found existing installation: typer 0.9.4\n",
            "    Uninstalling typer-0.9.4:\n",
            "      Successfully uninstalled typer-0.9.4\n",
            "\u001b[31mERROR: pip's dependency resolver does not currently take into account all the packages that are installed. This behaviour is the source of the following dependency conflicts.\n",
            "spacy 3.7.4 requires typer<0.10.0,>=0.3.0, but you have typer 0.12.3 which is incompatible.\n",
            "weasel 0.3.4 requires typer<0.10.0,>=0.3.0, but you have typer 0.12.3 which is incompatible.\u001b[0m\u001b[31m\n",
            "\u001b[0mSuccessfully installed aiofiles-23.2.1 fastapi-0.110.3 ffmpy-0.3.2 gradio-4.28.3 gradio-client-0.16.0 h11-0.14.0 httpcore-1.0.5 httpx-0.27.0 orjson-3.10.1 pydub-0.25.1 python-multipart-0.0.9 ruff-0.4.2 semantic-version-2.10.0 shellingham-1.5.4 starlette-0.37.2 tomlkit-0.12.0 typer-0.12.3 uvicorn-0.29.0 websockets-11.0.3\n",
            "Setting queue=True in a Colab notebook requires sharing enabled. Setting `share=True` (you can turn this off by setting `share=False` in `launch()` explicitly).\n",
            "\n",
            "Colab notebook detected. To show errors in colab notebook, set debug=True in launch()\n",
            "Running on public URL: https://321403d1b574146e56.gradio.live\n",
            "\n",
            "This share link expires in 72 hours. For free permanent hosting and GPU upgrades, run `gradio deploy` from Terminal to deploy to Spaces (https://huggingface.co/spaces)\n"
          ]
        },
        {
          "output_type": "display_data",
          "data": {
            "text/plain": [
              "<IPython.core.display.HTML object>"
            ],
            "text/html": [
              "<div><iframe src=\"https://321403d1b574146e56.gradio.live\" width=\"100%\" height=\"500\" allow=\"autoplay; camera; microphone; clipboard-read; clipboard-write;\" frameborder=\"0\" allowfullscreen></iframe></div>"
            ]
          },
          "metadata": {}
        },
        {
          "output_type": "execute_result",
          "data": {
            "text/plain": []
          },
          "metadata": {},
          "execution_count": 12
        }
      ]
    },
    {
      "cell_type": "markdown",
      "source": [
        "## Countdown Question (😍 Good job!)"
      ],
      "metadata": {
        "id": "Vx4O4PjfbacS"
      }
    },
    {
      "cell_type": "code",
      "source": [
        "import gradio as gr\n",
        "from datetime import datetime\n",
        "\n",
        "def countdown(target_date):\n",
        "    try:\n",
        "        # Parse the user input date\n",
        "        date_format = \"%Y-%m-%d\"\n",
        "        future_date = datetime.strptime(target_date, date_format)\n",
        "\n",
        "        # Get the current time\n",
        "        now = datetime.now()\n",
        "\n",
        "        # Calculate the difference between the future date and the current time\n",
        "        countdown = future_date - now\n",
        "\n",
        "        # Generate the countdown message\n",
        "        if countdown.days >= 0:\n",
        "            return f\"시간까지 {target_date}: \\n {countdown.days} 일, {countdown.seconds//3600} 시, {(countdown.seconds//60)%60} 분.\"\n",
        "        else:\n",
        "            return \"지난 날짜입니다.\"\n",
        "    except ValueError:\n",
        "        return \"다음형식으로 작성하세요. 년년년년-월월-일일.\"\n",
        "\n",
        "# Create the Gradio interface\n",
        "interface = gr.Interface(\n",
        "    fn=countdown,\n",
        "    inputs=gr.Text(label=\"미래 날짜 입력 (예, 2024-12-25)\"),\n",
        "    outputs=\"text\",\n",
        "    title=\"날짜 거꾸로 세기\",\n",
        "    description=\"날짜를 입력하여 지정한 날짜까지 남은 일수, 시간, 분을 확인하세요.\"\n",
        ")\n",
        "\n",
        "interface.launch()\n"
      ],
      "metadata": {
        "colab": {
          "base_uri": "https://localhost:8080/",
          "height": 651
        },
        "id": "XVhGwODObcpy",
        "outputId": "9fe9ff6a-ba2b-473c-9546-0f66b493a186"
      },
      "execution_count": 13,
      "outputs": [
        {
          "output_type": "stream",
          "name": "stdout",
          "text": [
            "Setting queue=True in a Colab notebook requires sharing enabled. Setting `share=True` (you can turn this off by setting `share=False` in `launch()` explicitly).\n",
            "\n",
            "Colab notebook detected. To show errors in colab notebook, set debug=True in launch()\n",
            "Running on public URL: https://cd9aa381c4a0092ef3.gradio.live\n",
            "\n",
            "This share link expires in 72 hours. For free permanent hosting and GPU upgrades, run `gradio deploy` from Terminal to deploy to Spaces (https://huggingface.co/spaces)\n"
          ]
        },
        {
          "output_type": "display_data",
          "data": {
            "text/plain": [
              "<IPython.core.display.HTML object>"
            ],
            "text/html": [
              "<div><iframe src=\"https://cd9aa381c4a0092ef3.gradio.live\" width=\"100%\" height=\"500\" allow=\"autoplay; camera; microphone; clipboard-read; clipboard-write;\" frameborder=\"0\" allowfullscreen></iframe></div>"
            ]
          },
          "metadata": {}
        },
        {
          "output_type": "execute_result",
          "data": {
            "text/plain": []
          },
          "metadata": {},
          "execution_count": 13
        }
      ]
    },
    {
      "cell_type": "markdown",
      "source": [
        "---\n",
        "The End (Great work! 😊😊😊)\n",
        "\n",
        "0345AM, 0501"
      ],
      "metadata": {
        "id": "KO7-DoOlUDOb"
      }
    }
  ]
}